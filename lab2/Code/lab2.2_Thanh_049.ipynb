{
 "cells": [
  {
   "cell_type": "code",
   "execution_count": 7,
   "metadata": {},
   "outputs": [
    {
     "data": {
      "text/plain": [
       "[3.04, 3.39, 6.7, 5.8, 6.41]"
      ]
     },
     "execution_count": 7,
     "metadata": {},
     "output_type": "execute_result"
    }
   ],
   "source": [
    "import csv\n",
    "file_path='D://16A1KHDL//lab2//Data//diem_hoc_phan.csv'\n",
    "data=[]\n",
    "\n",
    "with open(file_path,newline='',encoding='utf-8') as csvfile:\n",
    "    reader=csv.reader(csvfile)\n",
    "    next(reader)#Bỏ qua hàng đầu tiên\n",
    "\n",
    "    for row in reader:\n",
    "        for a in row[2:]:\n",
    "            data.append(float(a))\n",
    "\n",
    "\n",
    "# Hiển thị 1 phần dữ liệu để kiểm tra\n",
    "data[:5]\n"
   ]
  },
  {
   "cell_type": "code",
   "execution_count": 9,
   "metadata": {},
   "outputs": [],
   "source": [
    "import numpy as np"
   ]
  },
  {
   "cell_type": "code",
   "execution_count": 10,
   "metadata": {},
   "outputs": [
    {
     "data": {
      "text/plain": [
       "array([3.04, 3.39, 6.7 , 5.8 , 6.41, 6.62, 2.59, 3.57, 9.16, 3.81, 8.78,\n",
       "       9.24, 8.91, 9.64, 6.39, 3.23, 4.72, 6.17, 2.35, 3.29, 6.89, 2.48,\n",
       "       3.81, 4.84, 3.23, 2.61, 4.52, 7.02, 9.01, 9.15, 2.29, 4.48, 5.51,\n",
       "       3.51, 7.19, 5.13, 6.74, 7.78, 6.19, 9.86, 4.64, 3.33, 8.04, 5.12,\n",
       "       4.77, 2.74, 8.88, 5.8 , 3.04, 6.88, 3.91, 5.87, 4.41, 8.84, 8.46,\n",
       "       2.63, 4.91, 3.74, 6.71, 3.44, 5.67, 8.05, 6.03, 8.12, 2.46, 3.87,\n",
       "       9.4 , 5.31, 5.13, 3.91, 5.09, 8.82, 4.26, 5.78, 8.14, 4.41, 2.66,\n",
       "       5.4 , 3.23, 8.3 , 8.64, 9.25, 8.29, 9.1 , 6.08, 2.67, 6.39, 3.85,\n",
       "       7.71, 5.75])"
      ]
     },
     "execution_count": 10,
     "metadata": {},
     "output_type": "execute_result"
    }
   ],
   "source": [
    "np_data=np.array(data,dtype=float)\n",
    "np_data"
   ]
  },
  {
   "cell_type": "code",
   "execution_count": 11,
   "metadata": {},
   "outputs": [
    {
     "data": {
      "text/plain": [
       "['F',\n",
       " 'F',\n",
       " 'C+',\n",
       " 'C',\n",
       " 'C',\n",
       " 'C+',\n",
       " 'F',\n",
       " 'F',\n",
       " 'A',\n",
       " 'F',\n",
       " 'A',\n",
       " 'A',\n",
       " 'A',\n",
       " 'A',\n",
       " 'C',\n",
       " 'F',\n",
       " 'D',\n",
       " 'C',\n",
       " 'F',\n",
       " 'F',\n",
       " 'C+',\n",
       " 'F',\n",
       " 'F',\n",
       " 'D',\n",
       " 'F',\n",
       " 'F',\n",
       " 'D',\n",
       " 'B',\n",
       " 'A',\n",
       " 'A',\n",
       " 'F',\n",
       " 'D',\n",
       " 'C',\n",
       " 'F',\n",
       " 'B',\n",
       " 'D+',\n",
       " 'C+',\n",
       " 'B',\n",
       " 'C',\n",
       " 'A',\n",
       " 'D',\n",
       " 'F',\n",
       " 'B+',\n",
       " 'D+',\n",
       " 'D',\n",
       " 'F',\n",
       " 'A',\n",
       " 'C',\n",
       " 'F',\n",
       " 'C+',\n",
       " 'F',\n",
       " 'C',\n",
       " 'D',\n",
       " 'A',\n",
       " 'B+',\n",
       " 'F',\n",
       " 'D',\n",
       " 'F',\n",
       " 'C+',\n",
       " 'F',\n",
       " 'C',\n",
       " 'B+',\n",
       " 'C',\n",
       " 'B+',\n",
       " 'F',\n",
       " 'F',\n",
       " 'A',\n",
       " 'D+',\n",
       " 'D+',\n",
       " 'F',\n",
       " 'D+',\n",
       " 'A',\n",
       " 'D',\n",
       " 'C',\n",
       " 'B+',\n",
       " 'D',\n",
       " 'F',\n",
       " 'D+',\n",
       " 'F',\n",
       " 'B+',\n",
       " 'A',\n",
       " 'A',\n",
       " 'B+',\n",
       " 'A',\n",
       " 'C',\n",
       " 'F',\n",
       " 'C',\n",
       " 'F',\n",
       " 'B',\n",
       " 'C']"
      ]
     },
     "execution_count": 11,
     "metadata": {},
     "output_type": "execute_result"
    }
   ],
   "source": [
    "def qui_doi(d):\n",
    "    if 8.5<= d <=10:\n",
    "        return 'A'\n",
    "    elif 8.0<= d <8.5:\n",
    "        return 'B+'\n",
    "    elif 7.0<= d <8.0:\n",
    "        return 'B'\n",
    "    elif 6.5<= d <7.0:\n",
    "        return 'C+'\n",
    "    elif 5.5 <= d < 6.5:\n",
    "        return 'C'\n",
    "    elif 5.0<= d <5.5:\n",
    "        return 'D+'\n",
    "    elif 4.0 <= d <5.0:\n",
    "        return 'D'\n",
    "    else:\n",
    "        return 'F'\n",
    "\n",
    "diem_tin_chi=[]\n",
    "for i in data:\n",
    "    diem_tin_chi.append(qui_doi(i))\n",
    "diem_tin_chi"
   ]
  },
  {
   "cell_type": "code",
   "execution_count": 14,
   "metadata": {},
   "outputs": [],
   "source": [
    "diem=np_data.reshape((30,3))\n",
    "#Chia tách dữ liệu để phân tích điểm số\n",
    "hp_1=diem[:,0]\n",
    "hp_2=diem[:,1]\n",
    "hp_3=diem[:,2]"
   ]
  },
  {
   "cell_type": "code",
   "execution_count": 15,
   "metadata": {},
   "outputs": [
    {
     "name": "stdout",
     "output_type": "stream",
     "text": [
      "Tổng điểm học phần 1: 154.92999999999998\n",
      "Tổng điểm học phần 2: 170.27\n",
      "Tổng điểm học phần 3: 188.78\n",
      "Điểm trung bình học phần 1: 5.1643333333333326\n",
      "Điểm trung bình học phần 2: 5.675666666666667\n",
      "Điểm trung bình học phần 3: 6.292666666666666\n",
      "Độ lệch chuẩn học phần 1: 2.4078519934211533\n",
      "Độ lệch chuẩn học phần 2: 2.2494765070023637\n",
      "Độ lệch chuẩn học phần 3: 1.8082292135923723\n"
     ]
    }
   ],
   "source": [
    "print('Tổng điểm học phần 1:',np.sum(hp_1))\n",
    "print('Tổng điểm học phần 2:',np.sum(hp_2))\n",
    "print('Tổng điểm học phần 3:',np.sum(hp_3))\n",
    "print('Điểm trung bình học phần 1:',np.mean(hp_1))\n",
    "print('Điểm trung bình học phần 2:',np.mean(hp_2))\n",
    "print('Điểm trung bình học phần 3:',np.mean(hp_3))\n",
    "print('Độ lệch chuẩn học phần 1:',np.std(hp_1))\n",
    "print('Độ lệch chuẩn học phần 2:',np.std(hp_2))\n",
    "print('Độ lệch chuẩn học phần 3:',np.std(hp_3))\n"
   ]
  },
  {
   "cell_type": "code",
   "execution_count": 16,
   "metadata": {},
   "outputs": [
    {
     "data": {
      "text/plain": [
       "array([[3.04, 5.8 , 2.59, 3.81, 8.91, 3.23, 2.35, 2.48, 3.23, 7.02, 2.29,\n",
       "        3.51, 6.74, 9.86, 8.04, 2.74, 3.04, 5.87, 8.46, 3.74, 5.67, 8.12,\n",
       "        9.4 , 3.91, 4.26, 4.41, 3.23, 9.25, 6.08, 3.85],\n",
       "       [3.39, 6.41, 3.57, 8.78, 9.64, 4.72, 3.29, 3.81, 2.61, 9.01, 4.48,\n",
       "        7.19, 7.78, 4.64, 5.12, 8.88, 6.88, 4.41, 2.63, 6.71, 8.05, 2.46,\n",
       "        5.31, 5.09, 5.78, 2.66, 8.3 , 8.29, 2.67, 7.71],\n",
       "       [6.7 , 6.62, 9.16, 9.24, 6.39, 6.17, 6.89, 4.84, 4.52, 9.15, 5.51,\n",
       "        5.13, 6.19, 3.33, 4.77, 5.8 , 3.91, 8.84, 4.91, 3.44, 6.03, 3.87,\n",
       "        5.13, 8.82, 8.14, 5.4 , 8.64, 9.1 , 6.39, 5.75]])"
      ]
     },
     "execution_count": 16,
     "metadata": {},
     "output_type": "execute_result"
    }
   ],
   "source": [
    "\n",
    "ket_hop=np.vstack((hp_1,hp_2,hp_3))\n",
    "ket_hop"
   ]
  }
 ],
 "metadata": {
  "kernelspec": {
   "display_name": "Python 3",
   "language": "python",
   "name": "python3"
  },
  "language_info": {
   "codemirror_mode": {
    "name": "ipython",
    "version": 3
   },
   "file_extension": ".py",
   "mimetype": "text/x-python",
   "name": "python",
   "nbconvert_exporter": "python",
   "pygments_lexer": "ipython3",
   "version": "3.11.5"
  }
 },
 "nbformat": 4,
 "nbformat_minor": 2
}
