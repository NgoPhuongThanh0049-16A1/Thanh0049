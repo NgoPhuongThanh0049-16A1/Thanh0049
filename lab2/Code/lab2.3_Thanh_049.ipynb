{
 "cells": [
  {
   "cell_type": "code",
   "execution_count": 16,
   "metadata": {},
   "outputs": [],
   "source": [
    "import numpy as np\n",
    "\n",
    "effieiency=[]\n",
    "shifts=[]\n",
    "with open(\"D://16A1KHDL//lab2//Data//efficiency.txt\",'r',encoding=\"utf-8\") as f:\n",
    "    reader = f.read().split()\n",
    "    for i in reader:\n",
    "        effieiency.append(int(i))\n",
    "\n",
    "with open(\"D://16A1KHDL//lab2//Data//efficiency.txt\",'r',encoding=\"utf-8\") as f_:\n",
    "    reader_ = f_.read().split()\n",
    "    for j in reader_:\n",
    "        shifts.append(j)\n",
    "        "
   ]
  },
  {
   "cell_type": "code",
   "execution_count": 17,
   "metadata": {},
   "outputs": [
    {
     "name": "stdout",
     "output_type": "stream",
     "text": [
      "['94' '97' '114' '117' '117' '59' '133' '71' '86' '137' '120' '138' '138'\n",
      " '62' '108' '115' '89' '137' '96' '138' '131' '87' '75' '127' '122' '59'\n",
      " '70' '130' '119' '129' '97' '114' '132' '149' '138' '99' '79' '69' '69'\n",
      " '64' '89' '82' '115' '59' '107' '82' '81' '124' '73' '85' '125' '105'\n",
      " '78' '84' '50' '50' '86' '103' '55' '88' '67' '129' '54' '92' '108' '81'\n",
      " '51' '115' '91' '107' '85' '61' '96' '132' '141' '50' '64' '149' '103'\n",
      " '62' '92' '134' '125' '118' '56' '118' '97' '53' '126' '102' '128' '65'\n",
      " '70' '149' '108' '73' '129' '63' '135' '98']\n",
      "<U3\n",
      "[ 94  97 114 117 117  59 133  71  86 137 120 138 138  62 108 115  89 137\n",
      "  96 138 131  87  75 127 122  59  70 130 119 129  97 114 132 149 138  99\n",
      "  79  69  69  64  89  82 115  59 107  82  81 124  73  85 125 105  78  84\n",
      "  50  50  86 103  55  88  67 129  54  92 108  81  51 115  91 107  85  61\n",
      "  96 132 141  50  64 149 103  62  92 134 125 118  56 118  97  53 126 102\n",
      " 128  65  70 149 108  73 129  63 135  98]\n",
      "int32\n",
      "hieu suat ca lam viec sang:\n",
      " []\n",
      "hieu suat trung binh cua ca lam viec sang: nan\n",
      "hieu suat trung binh cua ca lam viec khac (k phai mornig): 98.23\n"
     ]
    }
   ],
   "source": [
    "np_shifts = np.array(shifts)\n",
    "print(np_shifts)\n",
    "print(np_shifts.dtype)\n",
    "\n",
    "np_efficiency = np.array(effieiency)\n",
    "print(np_efficiency)\n",
    "print(np_efficiency.dtype)\n",
    "\n",
    "# \n",
    "np_efficiency_morning = np_efficiency[np_shifts == \"Morning\"]\n",
    "print('hieu suat ca lam viec sang:\\n',np_efficiency_morning)\n",
    "print(\"hieu suat trung binh cua ca lam viec sang:\",np.mean(np_efficiency_morning))\n",
    "\n",
    "\n",
    "np_efficiency_diff = np_efficiency[np_shifts != \"Morning\"]\n",
    "print(\"hieu suat trung binh cua ca lam viec khac (k phai mornig):\",np.mean(np_efficiency_diff))\n"
   ]
  },
  {
   "cell_type": "code",
   "execution_count": 14,
   "metadata": {},
   "outputs": [
    {
     "name": "stdout",
     "output_type": "stream",
     "text": [
      "[('94',  94.) ('97',  97.) ('114', 114.) ('117', 117.) ('117', 117.)\n",
      " ('59',  59.) ('133', 133.) ('71',  71.) ('86',  86.) ('137', 137.)\n",
      " ('120', 120.) ('138', 138.) ('138', 138.) ('62',  62.) ('108', 108.)\n",
      " ('115', 115.) ('89',  89.) ('137', 137.) ('96',  96.) ('138', 138.)\n",
      " ('131', 131.) ('87',  87.) ('75',  75.) ('127', 127.) ('122', 122.)\n",
      " ('59',  59.) ('70',  70.) ('130', 130.) ('119', 119.) ('129', 129.)\n",
      " ('97',  97.) ('114', 114.) ('132', 132.) ('149', 149.) ('138', 138.)\n",
      " ('99',  99.) ('79',  79.) ('69',  69.) ('69',  69.) ('64',  64.)\n",
      " ('89',  89.) ('82',  82.) ('115', 115.) ('59',  59.) ('107', 107.)\n",
      " ('82',  82.) ('81',  81.) ('124', 124.) ('73',  73.) ('85',  85.)\n",
      " ('125', 125.) ('105', 105.) ('78',  78.) ('84',  84.) ('50',  50.)\n",
      " ('50',  50.) ('86',  86.) ('103', 103.) ('55',  55.) ('88',  88.)\n",
      " ('67',  67.) ('129', 129.) ('54',  54.) ('92',  92.) ('108', 108.)\n",
      " ('81',  81.) ('51',  51.) ('115', 115.) ('91',  91.) ('107', 107.)\n",
      " ('85',  85.) ('61',  61.) ('96',  96.) ('132', 132.) ('141', 141.)\n",
      " ('50',  50.) ('64',  64.) ('149', 149.) ('103', 103.) ('62',  62.)\n",
      " ('92',  92.) ('134', 134.) ('125', 125.) ('118', 118.) ('56',  56.)\n",
      " ('118', 118.) ('97',  97.) ('53',  53.) ('126', 126.) ('102', 102.)\n",
      " ('128', 128.) ('65',  65.) ('70',  70.) ('149', 149.) ('108', 108.)\n",
      " ('73',  73.) ('129', 129.) ('63',  63.) ('135', 135.) ('98',  98.)]\n"
     ]
    }
   ],
   "source": [
    "dtype = [(\"shifts\",\"U10\"),(\"efficiency\",float)]\n",
    "np_workers = np.zeros(len(shifts),dtype=dtype)\n",
    "np_workers[\"shifts\"] = np_shifts\n",
    "np_workers[\"efficiency\"] = np_efficiency\n",
    "print(np_workers)\n"
   ]
  },
  {
   "cell_type": "code",
   "execution_count": 15,
   "metadata": {},
   "outputs": [
    {
     "name": "stdout",
     "output_type": "stream",
     "text": [
      "[('50',  50.) ('50',  50.) ('50',  50.) ('51',  51.) ('53',  53.)\n",
      " ('54',  54.) ('55',  55.) ('56',  56.) ('59',  59.) ('59',  59.)\n",
      " ('59',  59.) ('61',  61.) ('62',  62.) ('62',  62.) ('63',  63.)\n",
      " ('64',  64.) ('64',  64.) ('65',  65.) ('67',  67.) ('69',  69.)\n",
      " ('69',  69.) ('70',  70.) ('70',  70.) ('71',  71.) ('73',  73.)\n",
      " ('73',  73.) ('75',  75.) ('78',  78.) ('79',  79.) ('81',  81.)\n",
      " ('81',  81.) ('82',  82.) ('82',  82.) ('84',  84.) ('85',  85.)\n",
      " ('85',  85.) ('86',  86.) ('86',  86.) ('87',  87.) ('88',  88.)\n",
      " ('89',  89.) ('89',  89.) ('91',  91.) ('92',  92.) ('92',  92.)\n",
      " ('94',  94.) ('96',  96.) ('96',  96.) ('97',  97.) ('97',  97.)\n",
      " ('97',  97.) ('98',  98.) ('99',  99.) ('102', 102.) ('103', 103.)\n",
      " ('103', 103.) ('105', 105.) ('107', 107.) ('107', 107.) ('108', 108.)\n",
      " ('108', 108.) ('108', 108.) ('114', 114.) ('114', 114.) ('115', 115.)\n",
      " ('115', 115.) ('115', 115.) ('117', 117.) ('117', 117.) ('118', 118.)\n",
      " ('118', 118.) ('119', 119.) ('120', 120.) ('122', 122.) ('124', 124.)\n",
      " ('125', 125.) ('125', 125.) ('126', 126.) ('127', 127.) ('128', 128.)\n",
      " ('129', 129.) ('129', 129.) ('129', 129.) ('130', 130.) ('131', 131.)\n",
      " ('132', 132.) ('132', 132.) ('133', 133.) ('134', 134.) ('135', 135.)\n",
      " ('137', 137.) ('137', 137.) ('138', 138.) ('138', 138.) ('138', 138.)\n",
      " ('138', 138.) ('141', 141.) ('149', 149.) ('149', 149.) ('149', 149.)]\n",
      "ca lam viec co hieu suat cao nhat la:  149\n",
      "cao nhat voi muc hieu suat la: 149.0\n",
      "ca lam viec co hieu suat thap nhat la:  50\n",
      "thap nhat voi muc hieu suat la: 50.0\n"
     ]
    }
   ],
   "source": [
    "sort_workers = np.sort(np_workers,order=\"efficiency\")\n",
    "print(sort_workers)\n",
    "print(\"ca lam viec co hieu suat cao nhat la: \",sort_workers[-1][0])\n",
    "print(\"cao nhat voi muc hieu suat la:\",sort_workers[-1][1])\n",
    "print(\"ca lam viec co hieu suat thap nhat la: \",sort_workers[0][0])\n",
    "print(\"thap nhat voi muc hieu suat la:\",sort_workers[0][1])"
   ]
  }
 ],
 "metadata": {
  "kernelspec": {
   "display_name": "base",
   "language": "python",
   "name": "python3"
  },
  "language_info": {
   "codemirror_mode": {
    "name": "ipython",
    "version": 3
   },
   "file_extension": ".py",
   "mimetype": "text/x-python",
   "name": "python",
   "nbconvert_exporter": "python",
   "pygments_lexer": "ipython3",
   "version": "3.11.5"
  }
 },
 "nbformat": 4,
 "nbformat_minor": 2
}
