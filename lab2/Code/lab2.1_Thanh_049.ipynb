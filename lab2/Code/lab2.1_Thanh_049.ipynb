{
 "cells": [
  {
   "cell_type": "code",
   "execution_count": 2,
   "metadata": {},
   "outputs": [
    {
     "name": "stdout",
     "output_type": "stream",
     "text": [
      "Mảng nhiệt độ hàng ngày trong 1 tháng là: \n",
      " [22.46  2.76  8.26 11.43 17.95 22.85 10.8  18.37 26.6  26.82 17.03 34.06\n",
      " 21.59  4.37 11.3  21.35 20.26 28.4   8.99 25.15 18.6  14.88  2.97 16.49\n",
      " 23.68 22.16 21.69 21.44  8.9  29.94]\n",
      "nhiet do trung binh :18.05166666666667\n"
     ]
    }
   ],
   "source": [
    "import numpy  as np \n",
    "# Tạo mảng Numpy mô phỏng dữ liệu nhiệt độ hàng ngày trong một tháng \n",
    "temperature = np.random.normal(loc=20, scale=7, size = 30)\n",
    "temperature = np.round(temperature,2)\n",
    "print(\"Mảng nhiệt độ hàng ngày trong 1 tháng là: \\n\", temperature)\n",
    "\n",
    "temp_tb = np.mean(temperature)\n",
    "print(f\"nhiet do trung binh :{temp_tb}\")"
   ]
  },
  {
   "cell_type": "code",
   "execution_count": 3,
   "metadata": {},
   "outputs": [
    {
     "name": "stdout",
     "output_type": "stream",
     "text": [
      "[ 2.76  2.97  4.37  8.26  8.9   8.99 10.8  11.3  11.43 14.88 16.49 17.03\n",
      " 17.95 18.37 18.6  20.26 21.35 21.44 21.59 21.69 22.16 22.46 22.85 23.68\n",
      " 25.15 26.6  26.82 28.4  29.94 34.06]\n",
      "ngay co nhiet do cao nhat :34.06 *C\n",
      "ngay co nhiet do thap nhat :2.76 *C\n"
     ]
    }
   ],
   "source": [
    "# 2:\n",
    "sort_temp = np.sort(temperature)\n",
    "print(sort_temp)\n",
    "temp_max = sort_temp[-1]\n",
    "print(f\"ngay co nhiet do cao nhat :{temp_max} *C\")\n",
    "temp_min = sort_temp[0]\n",
    "print(f\"ngay co nhiet do thap nhat :{temp_min} *C\")"
   ]
  },
  {
   "cell_type": "code",
   "execution_count": 4,
   "metadata": {},
   "outputs": [
    {
     "name": "stdout",
     "output_type": "stream",
     "text": [
      "cac ngay hon 20 *C la:[22.46, 22.85, 26.6, 26.82, 34.06, 21.59, 21.35, 20.26, 28.4, 25.15, 23.68, 22.16, 21.69, 21.44, 29.94]\n"
     ]
    }
   ],
   "source": [
    "# 3:\n",
    "day_than_20 = [i for i in temperature if i> 20]\n",
    "print(f\"cac ngay hon 20 *C la:{day_than_20}\")"
   ]
  }
 ],
 "metadata": {
  "kernelspec": {
   "display_name": "Python 3",
   "language": "python",
   "name": "python3"
  },
  "language_info": {
   "codemirror_mode": {
    "name": "ipython",
    "version": 3
   },
   "file_extension": ".py",
   "mimetype": "text/x-python",
   "name": "python",
   "nbconvert_exporter": "python",
   "pygments_lexer": "ipython3",
   "version": "3.11.5"
  }
 },
 "nbformat": 4,
 "nbformat_minor": 2
}
